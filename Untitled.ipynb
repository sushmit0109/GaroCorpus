{
 "cells": [
  {
   "cell_type": "code",
   "execution_count": 1,
   "id": "7e14e339",
   "metadata": {},
   "outputs": [],
   "source": [
    "import pandas as pd\n",
    "import numpy as np"
   ]
  },
  {
   "cell_type": "code",
   "execution_count": 2,
   "id": "d22d279e",
   "metadata": {},
   "outputs": [],
   "source": [
    "data = pd.read_fwf('Sazia Garo.txt', header = None)"
   ]
  },
  {
   "cell_type": "code",
   "execution_count": null,
   "id": "d7d34f2e",
   "metadata": {},
   "outputs": [],
   "source": []
  },
  {
   "cell_type": "code",
   "execution_count": null,
   "id": "05648ca0",
   "metadata": {},
   "outputs": [],
   "source": []
  },
  {
   "cell_type": "code",
   "execution_count": 3,
   "id": "d938e2db",
   "metadata": {},
   "outputs": [],
   "source": [
    "gollaPunc = [\"'\", '\"', '`', '‘', '’', '*', '^', '®']\n",
    "\n",
    "def kamlaCleaner(sentence):\n",
    "    try:\n",
    "        sentence = sentence.replace(',',' ')\n",
    "        sentence = sentence.replace('.', ' ')\n",
    "        sentence = sentence.replace('?', ' ')\n",
    "        sentence = sentence.replace('!', ' ')\n",
    "        \n",
    "        sen_temp = []\n",
    "        for word in sentence.split(' '):\n",
    "            if word:\n",
    "                if word[0] in gollaPunc:\n",
    "                    word = word[1:]\n",
    "                if word[-1] in gollaPunc:\n",
    "                    word = word[:-1]\n",
    "                for char in word:\n",
    "                    if char in gollaPunc:\n",
    "                        word = word.replace(char,\"'\")\n",
    "                        \n",
    "            word = word.replace(\"''\", \"'\")\n",
    "            sen_temp.append(word)\n",
    "        sentence = \" \".join(sen_temp)    \n",
    "        \n",
    "        return sentence\n",
    "    except:\n",
    "        return sentence"
   ]
  },
  {
   "cell_type": "code",
   "execution_count": 4,
   "id": "037d62a9",
   "metadata": {},
   "outputs": [],
   "source": [
    "#kamlaCleaner(sentence)"
   ]
  },
  {
   "cell_type": "code",
   "execution_count": null,
   "id": "88ce1fb1",
   "metadata": {},
   "outputs": [],
   "source": []
  },
  {
   "cell_type": "code",
   "execution_count": 5,
   "id": "3231de3e",
   "metadata": {},
   "outputs": [],
   "source": [
    "data['clean'] = data[0].map(kamlaCleaner)"
   ]
  },
  {
   "cell_type": "code",
   "execution_count": 6,
   "id": "d3fb5082",
   "metadata": {},
   "outputs": [
    {
     "data": {
      "text/html": [
       "<div>\n",
       "<style scoped>\n",
       "    .dataframe tbody tr th:only-of-type {\n",
       "        vertical-align: middle;\n",
       "    }\n",
       "\n",
       "    .dataframe tbody tr th {\n",
       "        vertical-align: top;\n",
       "    }\n",
       "\n",
       "    .dataframe thead th {\n",
       "        text-align: right;\n",
       "    }\n",
       "</style>\n",
       "<table border=\"1\" class=\"dataframe\">\n",
       "  <thead>\n",
       "    <tr style=\"text-align: right;\">\n",
       "      <th></th>\n",
       "      <th>0</th>\n",
       "      <th>clean</th>\n",
       "    </tr>\n",
       "  </thead>\n",
       "  <tbody>\n",
       "    <tr>\n",
       "      <th>0</th>\n",
       "      <td>A‘CHIK GOLPORANG BAK II 43[a]</td>\n",
       "      <td>A'CHIK GOLPORANG BAK II 43[a]</td>\n",
       "    </tr>\n",
       "    <tr>\n",
       "      <th>1</th>\n",
       "      <td>skanggitan pilak bosturangko jakbitange achak ...</td>\n",
       "      <td>skanggitan pilak bosturangko jakbitange achak ...</td>\n",
       "    </tr>\n",
       "    <tr>\n",
       "      <th>2</th>\n",
       "      <td>nikeaha. [Indiba mai cholchi segipako a’aona r...</td>\n",
       "      <td>nikeaha  [Indiba mai cholchi segipako a'aona r...</td>\n",
       "    </tr>\n",
       "    <tr>\n",
       "      <th>3</th>\n",
       "      <td>man‘gen ukon uwyaha. Indaken Singwil salsni wa...</td>\n",
       "      <td>man'gen ukon uwyaha  Indaken Singwil salsni wa...</td>\n",
       "    </tr>\n",
       "    <tr>\n",
       "      <th>4</th>\n",
       "      <td>ringgija grapmanggasie sinti do’pilgime dongai...</td>\n",
       "      <td>ringgija grapmanggasie sinti do'pilgime dongai...</td>\n",
       "    </tr>\n",
       "    <tr>\n",
       "      <th>...</th>\n",
       "      <td>...</td>\n",
       "      <td>...</td>\n",
       "    </tr>\n",
       "    <tr>\n",
       "      <th>2194</th>\n",
       "      <td>matchadu bi’sani ganding chinding ba’rarangko ...</td>\n",
       "      <td>matchadu bi'sani ganding chinding ba'rarangko ...</td>\n",
       "    </tr>\n",
       "    <tr>\n",
       "      <th>2195</th>\n",
       "      <td>\\* . :</td>\n",
       "      <td>\\   :</td>\n",
       "    </tr>\n",
       "    <tr>\n",
       "      <th>2196</th>\n",
       "      <td>a \\\\</td>\n",
       "      <td>a \\\\</td>\n",
       "    </tr>\n",
       "    <tr>\n",
       "      <th>2197</th>\n",
       "      <td>[a]@saziamorshed@gmail.com etar main file ta d...</td>\n",
       "      <td>[a]@saziamorshed@gmail com etar main file ta d...</td>\n",
       "    </tr>\n",
       "    <tr>\n",
       "      <th>2198</th>\n",
       "      <td>_Assigned to sazia morshed_</td>\n",
       "      <td>_Assigned to sazia morshed_</td>\n",
       "    </tr>\n",
       "  </tbody>\n",
       "</table>\n",
       "<p>2199 rows × 2 columns</p>\n",
       "</div>"
      ],
      "text/plain": [
       "                                                      0  \\\n",
       "0                         A‘CHIK GOLPORANG BAK II 43[a]   \n",
       "1     skanggitan pilak bosturangko jakbitange achak ...   \n",
       "2     nikeaha. [Indiba mai cholchi segipako a’aona r...   \n",
       "3     man‘gen ukon uwyaha. Indaken Singwil salsni wa...   \n",
       "4     ringgija grapmanggasie sinti do’pilgime dongai...   \n",
       "...                                                 ...   \n",
       "2194  matchadu bi’sani ganding chinding ba’rarangko ...   \n",
       "2195                                             \\* . :   \n",
       "2196                                               a \\\\   \n",
       "2197  [a]@saziamorshed@gmail.com etar main file ta d...   \n",
       "2198                        _Assigned to sazia morshed_   \n",
       "\n",
       "                                                  clean  \n",
       "0                         A'CHIK GOLPORANG BAK II 43[a]  \n",
       "1     skanggitan pilak bosturangko jakbitange achak ...  \n",
       "2     nikeaha  [Indiba mai cholchi segipako a'aona r...  \n",
       "3     man'gen ukon uwyaha  Indaken Singwil salsni wa...  \n",
       "4     ringgija grapmanggasie sinti do'pilgime dongai...  \n",
       "...                                                 ...  \n",
       "2194  matchadu bi'sani ganding chinding ba'rarangko ...  \n",
       "2195                                              \\   :  \n",
       "2196                                               a \\\\  \n",
       "2197  [a]@saziamorshed@gmail com etar main file ta d...  \n",
       "2198                        _Assigned to sazia morshed_  \n",
       "\n",
       "[2199 rows x 2 columns]"
      ]
     },
     "execution_count": 6,
     "metadata": {},
     "output_type": "execute_result"
    }
   ],
   "source": [
    "data"
   ]
  },
  {
   "cell_type": "code",
   "execution_count": 7,
   "id": "18088e82",
   "metadata": {},
   "outputs": [],
   "source": [
    "#sentence = data['clean'].values[2]"
   ]
  },
  {
   "cell_type": "code",
   "execution_count": 8,
   "id": "86babd8d",
   "metadata": {},
   "outputs": [],
   "source": [
    "motherArr = []\n",
    "for each in data['clean'].values:\n",
    "    punctuations = ['?', \"!\", \".\", \"+\", \"-\", \"_\", \"[\", \"]\", \"(\", \")\", \"}\", \"{\" ,\"/\", \"|\"]\n",
    "    sen_temp = []\n",
    "    for word in each.split(' '):\n",
    "        for punc in punctuations:\n",
    "            word = word.replace(punc,'')\n",
    "        sen_temp.append(word.lower())\n",
    "\n",
    "    motherArr = motherArr + sen_temp"
   ]
  },
  {
   "cell_type": "code",
   "execution_count": 9,
   "id": "b1862121",
   "metadata": {},
   "outputs": [],
   "source": [
    "df = pd.DataFrame({'word':motherArr})\n",
    "\n",
    "count = df['word'].value_counts()\n",
    "FreqDF = pd.DataFrame(count)\n",
    "#df['freq_count'] = df.groupby('word')['word'].transform('count')"
   ]
  },
  {
   "cell_type": "code",
   "execution_count": 11,
   "id": "633fe084",
   "metadata": {},
   "outputs": [],
   "source": [
    "FreqDF.to_excel('SaziaGaroDistribution.xlsx')"
   ]
  },
  {
   "cell_type": "code",
   "execution_count": null,
   "id": "1ed6db15",
   "metadata": {},
   "outputs": [],
   "source": []
  },
  {
   "cell_type": "code",
   "execution_count": null,
   "id": "56301425",
   "metadata": {},
   "outputs": [],
   "source": []
  }
 ],
 "metadata": {
  "kernelspec": {
   "display_name": "Python 3 (ipykernel)",
   "language": "python",
   "name": "python3"
  },
  "language_info": {
   "codemirror_mode": {
    "name": "ipython",
    "version": 3
   },
   "file_extension": ".py",
   "mimetype": "text/x-python",
   "name": "python",
   "nbconvert_exporter": "python",
   "pygments_lexer": "ipython3",
   "version": "3.8.10"
  }
 },
 "nbformat": 4,
 "nbformat_minor": 5
}
